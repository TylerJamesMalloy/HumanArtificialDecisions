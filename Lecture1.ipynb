{
 "cells": [
  {
   "cell_type": "code",
   "execution_count": 2,
   "metadata": {},
   "outputs": [
    {
     "name": "stdout",
     "output_type": "stream",
     "text": [
      "Hello World\n"
     ]
    }
   ],
   "source": [
    "# The print command will output whatever string is entered into the console, or the Jupyter notebook\n",
    "print(\"Hello World\")"
   ]
  },
  {
   "cell_type": "code",
   "execution_count": 4,
   "metadata": {},
   "outputs": [
    {
     "name": "stdout",
     "output_type": "stream",
     "text": [
      "2\n"
     ]
    }
   ],
   "source": [
    "# Mathematical operations will be evaluated in print statements\n",
    "print(1+1)"
   ]
  },
  {
   "cell_type": "code",
   "execution_count": 6,
   "metadata": {},
   "outputs": [
    {
     "name": "stdout",
     "output_type": "stream",
     "text": [
      "2\n"
     ]
    }
   ],
   "source": [
    "# Variables are used to store the values of integers, strings, and other objects \n",
    "a = 1\n",
    "b = 1\n",
    "c = a + b\n",
    "print(c)"
   ]
  },
  {
   "cell_type": "code",
   "execution_count": 7,
   "metadata": {},
   "outputs": [
    {
     "name": "stdout",
     "output_type": "stream",
     "text": [
      "129.0\n"
     ]
    }
   ],
   "source": [
    "# Mathematical order of operations will resolve automatically \n",
    "a = 100 + 27 * 5 / 3 + 72 - 88 \n",
    "print(a)"
   ]
  },
  {
   "cell_type": "code",
   "execution_count": 11,
   "metadata": {},
   "outputs": [],
   "source": [
    "# Import is used to allow for access to additional functions not in the base python language\n",
    "import math\n",
    "# The math package contains additional mathematical functions that can be used after importing it.\n",
    "# This is done with math.function() where function is the name of the function from the math package"
   ]
  },
  {
   "cell_type": "code",
   "execution_count": 13,
   "metadata": {},
   "outputs": [
    {
     "name": "stdout",
     "output_type": "stream",
     "text": [
      "1.0\n"
     ]
    }
   ],
   "source": [
    "# The math package contains trigonometric functions\n",
    "a = math.cos(0)\n",
    "print(a)"
   ]
  },
  {
   "cell_type": "code",
   "execution_count": 14,
   "metadata": {},
   "outputs": [
    {
     "name": "stdout",
     "output_type": "stream",
     "text": [
      "2.718281828459045\n"
     ]
    }
   ],
   "source": [
    "# And mathematical constants, among other things\n",
    "b = math.e\n",
    "print(b)"
   ]
  },
  {
   "cell_type": "code",
   "execution_count": 17,
   "metadata": {},
   "outputs": [
    {
     "name": "stdout",
     "output_type": "stream",
     "text": [
      "[1, 2, 3, 4]\n",
      "['apple', 'orange', 'banana']\n"
     ]
    }
   ],
   "source": [
    "# Arrays are a type of object that contains multiple strings, integers, or other objects\n",
    "a = [1,2,3,4]\n",
    "print(a)\n",
    "\n",
    "b = [\"apple\", \"orange\", \"banana\"]\n",
    "print(b)"
   ]
  },
  {
   "cell_type": "code",
   "execution_count": 18,
   "metadata": {},
   "outputs": [
    {
     "name": "stdout",
     "output_type": "stream",
     "text": [
      "[[1, 2, 3], [4, 5, 6], [7, 8, 9]]\n"
     ]
    }
   ],
   "source": [
    "# Arrays can also contain other arrays, this will be common when analysing data from human experiments\n",
    "a = [[1,2,3], [4,5,6], [7,8,9]]\n",
    "print(a)"
   ]
  },
  {
   "cell_type": "code",
   "execution_count": 19,
   "metadata": {},
   "outputs": [
    {
     "name": "stdout",
     "output_type": "stream",
     "text": [
      "True\n"
     ]
    }
   ],
   "source": [
    "# Logical operators can be used to test the values of variables \n",
    "check = (1 == 1)\n",
    "print(check)"
   ]
  },
  {
   "cell_type": "code",
   "execution_count": 21,
   "metadata": {},
   "outputs": [
    {
     "name": "stdout",
     "output_type": "stream",
     "text": [
      "The variable a is equal to 1\n"
     ]
    }
   ],
   "source": [
    "# These logical checks can be used to control the flow of the program using if() statements \n",
    "a = 1\n",
    "if(a == 1):\n",
    "    print(\"The variable a is equal to 1\")"
   ]
  },
  {
   "cell_type": "code",
   "execution_count": 22,
   "metadata": {},
   "outputs": [
    {
     "name": "stdout",
     "output_type": "stream",
     "text": [
      "The variable a is not equal to 1\n"
     ]
    }
   ],
   "source": [
    "# TODO: Write an if statement that checks if the two variables a and b are equal to eachother\n",
    "a = 1\n",
    "b = 1\n",
    "# Add code here: "
   ]
  },
  {
   "cell_type": "code",
   "execution_count": 23,
   "metadata": {},
   "outputs": [
    {
     "name": "stdout",
     "output_type": "stream",
     "text": [
      "The variable a is not equal to 1\n"
     ]
    }
   ],
   "source": [
    "# The else statement can be used to run an alternative code when the if statement returns false\n",
    "a = 2\n",
    "if(a == 1):\n",
    "    print(\"The variable a is equal to 1\")\n",
    "else:\n",
    "    print(\"The variable a is not equal to 1\")"
   ]
  },
  {
   "cell_type": "code",
   "execution_count": 24,
   "metadata": {},
   "outputs": [
    {
     "name": "stdout",
     "output_type": "stream",
     "text": [
      "The variable a is equal to 2\n"
     ]
    }
   ],
   "source": [
    "# elif statements can be added to check additional cases\n",
    "a = 2\n",
    "if(a == 1):\n",
    "    print(\"The variable a is equal to 1\")\n",
    "elif(a == 2):\n",
    "    print(\"The variable a is equal to 2\")\n",
    "else:\n",
    "    print(\"The variable a is not equal to 1 or 2\")"
   ]
  },
  {
   "cell_type": "code",
   "execution_count": 26,
   "metadata": {},
   "outputs": [
    {
     "name": "stdout",
     "output_type": "stream",
     "text": [
      "Number:  0\n",
      "Number:  1\n",
      "Number:  2\n",
      "Number:  3\n",
      "Number:  4\n",
      "Number:  5\n",
      "Number:  6\n",
      "Number:  7\n",
      "Number:  8\n",
      "Number:  9\n"
     ]
    }
   ],
   "source": [
    "# For loops can be used to repeatedly run a part of code \n",
    "for i in range(10):\n",
    "    print(\"Number: \", i)"
   ]
  },
  {
   "cell_type": "code",
   "execution_count": 29,
   "metadata": {},
   "outputs": [
    {
     "name": "stdout",
     "output_type": "stream",
     "text": [
      "One of my favorite fruits is: apples\n",
      "One of my favorite fruits is: oranges\n",
      "One of my favorite fruits is: bananas\n"
     ]
    }
   ],
   "source": [
    "# Loops can also be used to quickly access the values inside arrays\n",
    "my_favorite_fruits = [\"apples\", \"oranges\", \"bananas\"]\n",
    "\n",
    "for fruits in my_favorite_fruits:\n",
    "    print(\"One of my favorite fruits is:\", fruits)"
   ]
  },
  {
   "cell_type": "code",
   "execution_count": 30,
   "metadata": {},
   "outputs": [
    {
     "name": "stdout",
     "output_type": "stream",
     "text": [
      "Hello world!\n"
     ]
    }
   ],
   "source": [
    "# Functions can allow you to write your own custom code and reuse it later\n",
    "def print_hello_world():\n",
    "    print(\"Hello world!\")\n",
    "\n",
    "print_hello_world()"
   ]
  },
  {
   "cell_type": "code",
   "execution_count": 37,
   "metadata": {},
   "outputs": [
    {
     "name": "stdout",
     "output_type": "stream",
     "text": [
      "3\n"
     ]
    }
   ],
   "source": [
    "# Functions can take in arguments that will be used in the code, \n",
    "def add(a, b):\n",
    "    return a + b\n",
    "# The return operator will send the returned value to the location that calls the function. \n",
    "c = add(1,2)\n",
    "print(c)"
   ]
  },
  {
   "cell_type": "code",
   "execution_count": null,
   "metadata": {},
   "outputs": [],
   "source": []
  }
 ],
 "metadata": {
  "kernelspec": {
   "display_name": "Python 3",
   "language": "python",
   "name": "python3"
  },
  "language_info": {
   "codemirror_mode": {
    "name": "ipython",
    "version": 3
   },
   "file_extension": ".py",
   "mimetype": "text/x-python",
   "name": "python",
   "nbconvert_exporter": "python",
   "pygments_lexer": "ipython3",
   "version": "3.9.9"
  },
  "orig_nbformat": 4
 },
 "nbformat": 4,
 "nbformat_minor": 2
}
