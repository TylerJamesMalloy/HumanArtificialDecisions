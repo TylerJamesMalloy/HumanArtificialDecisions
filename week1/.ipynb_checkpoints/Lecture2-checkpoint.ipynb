{
 "cells": [
  {
   "cell_type": "code",
   "execution_count": 1,
   "metadata": {},
   "outputs": [],
   "source": [
    "#https://docs.scipy.org/doc/scipy/reference/stats.html\n",
    "import scipy \n",
    "#This module contains a large number of probability distributions, \n",
    "#summary and frequency statistics, correlation functions and statistical tests"
   ]
  },
  {
   "cell_type": "code",
   "execution_count": 9,
   "metadata": {},
   "outputs": [],
   "source": [
    "import pandas \n",
    "# This module is used for processing data files that are frequently used in psychological sciences "
   ]
  },
  {
   "cell_type": "code",
   "execution_count": null,
   "metadata": {},
   "outputs": [],
   "source": [
    "import numpy \n",
    "# This is a commonly used module for analysis of data files and array and matricies "
   ]
  },
  {
   "cell_type": "code",
   "execution_count": 3,
   "metadata": {},
   "outputs": [],
   "source": [
    "import pyibl\n",
    "from pyibl import Agent\n",
    "a = Agent(name=\"My Agent\")"
   ]
  },
  {
   "cell_type": "code",
   "execution_count": 4,
   "metadata": {},
   "outputs": [],
   "source": [
    "a.default_utility = 10.0"
   ]
  },
  {
   "cell_type": "code",
   "execution_count": 5,
   "metadata": {},
   "outputs": [
    {
     "data": {
      "text/plain": [
       "'Right'"
      ]
     },
     "execution_count": 5,
     "metadata": {},
     "output_type": "execute_result"
    }
   ],
   "source": [
    "a.choose([\"Left\", \"Right\"])"
   ]
  },
  {
   "cell_type": "code",
   "execution_count": 6,
   "metadata": {},
   "outputs": [],
   "source": [
    "a.respond(2)"
   ]
  },
  {
   "cell_type": "code",
   "execution_count": 7,
   "metadata": {},
   "outputs": [],
   "source": [
    "a.choose([\"Left\", \"Right\"])\n",
    "a.respond(1)"
   ]
  },
  {
   "cell_type": "code",
   "execution_count": 8,
   "metadata": {},
   "outputs": [],
   "source": [
    "a.choose([\"Left\", \"Right\"])\n",
    "a.respond(0)"
   ]
  },
  {
   "cell_type": "code",
   "execution_count": 11,
   "metadata": {},
   "outputs": [],
   "source": [
    "def choose_and_respond():\n",
    "    result = a.choose([\"Left\", \"Right\"])\n",
    "    if result == \"Left\":\n",
    "        a.respond(1.0)\n",
    "    else:\n",
    "        a.respond(-2.0)\n",
    "    return result"
   ]
  },
  {
   "cell_type": "code",
   "execution_count": 12,
   "metadata": {},
   "outputs": [
    {
     "data": {
      "text/plain": [
       "{'green': 1, 'blue': 506, 'yellow': 1, 'red': 1, 'violet': 491}"
      ]
     },
     "execution_count": 12,
     "metadata": {},
     "output_type": "execute_result"
    }
   ],
   "source": [
    "def choose_and_respond(choices):\n",
    "    result = a.choose(choices)\n",
    "    a.respond(responses[result])\n",
    "    return result\n",
    "\n",
    "\n",
    "a.reset()\n",
    "\n",
    "responses = { \"left\": -5, \"middle\": 0, \"right\": -4,\n",
    "\n",
    "              \"lefter\": -6, \"righter\": 0 }\n",
    "\n",
    "\n",
    "choices = list(responses.keys())\n",
    "\n",
    "choices\n",
    "['left', 'middle', 'right', 'lefter', 'righter']\n",
    "\n",
    "results = { k: 0 for k in choices }\n",
    "\n",
    "results\n",
    "{'left': 0, 'middle': 0, 'right': 0, 'lefter': 0, 'righter': 0}\n",
    "\n",
    "for _ in range(5):\n",
    "\n",
    "    results[choose_and_respond(choices)] += 1\n",
    "\n",
    "\n",
    "results\n",
    "{'left': 1, 'middle': 1, 'right': 1, 'lefter': 1, 'righter': 1}\n",
    "\n",
    "for _ in range(995):\n",
    "\n",
    "    results[choose_and_respond(choices)] += 1\n",
    "\n",
    "\n",
    "results"
   ]
  },
  {
   "cell_type": "code",
   "execution_count": null,
   "metadata": {},
   "outputs": [],
   "source": []
  }
 ],
 "metadata": {
  "kernelspec": {
   "display_name": "Python 3 (ipykernel)",
   "language": "python",
   "name": "python3"
  },
  "language_info": {
   "codemirror_mode": {
    "name": "ipython",
    "version": 3
   },
   "file_extension": ".py",
   "mimetype": "text/x-python",
   "name": "python",
   "nbconvert_exporter": "python",
   "pygments_lexer": "ipython3",
   "version": "3.9.9"
  }
 },
 "nbformat": 4,
 "nbformat_minor": 2
}
